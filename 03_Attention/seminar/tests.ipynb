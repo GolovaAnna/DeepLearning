{
 "cells": [
  {
   "cell_type": "code",
   "execution_count": 8,
   "id": "5a85fb9a",
   "metadata": {},
   "outputs": [],
   "source": [
    "from Summarizer import Summarizer\n",
    "from transformer import EncoderDecoder\n",
    "from attention_map import attention_map\n",
    "import torch\n",
    "import pandas as pd\n",
    "from sacremoses import MosesTokenizer\n",
    "from preprocessing import get_word_field, create_dataset"
   ]
  },
  {
   "cell_type": "code",
   "execution_count": 2,
   "id": "ce70082f",
   "metadata": {},
   "outputs": [],
   "source": [
    "def test_predict(model, input_text):\n",
    "    model.eval()\n",
    "    summarizer = Summarizer(model)\n",
    "    return summarizer.predict(input_text)\n",
    "\n",
    "def test_attention_map(model, input_text, type='decoder_self'):\n",
    "    summarizer = Summarizer(model)\n",
    "    attention_map(summarizer, input_text, type)"
   ]
  },
  {
   "cell_type": "code",
   "execution_count": 13,
   "id": "0cbc021d",
   "metadata": {},
   "outputs": [
    {
     "data": {
      "application/vnd.jupyter.widget-view+json": {
       "model_id": "73b8f48a59e74d73a9e50f09478594b6",
       "version_major": 2,
       "version_minor": 0
      },
      "text/plain": [
       "  0%|          | 0/74278 [00:00<?, ?it/s]"
      ]
     },
     "metadata": {},
     "output_type": "display_data"
    }
   ],
   "source": [
    "data = pd.read_csv('D:/05_Attention/05_Attention/seminar/news.csv', delimiter=',')\n",
    "tokenizer = MosesTokenizer(lang='ru')\n",
    "tokenize = tokenizer.tokenize\n",
    "dataset, word_field = create_dataset(data, tokenize)"
   ]
  },
  {
   "cell_type": "code",
   "execution_count": 14,
   "id": "d7c2278d",
   "metadata": {},
   "outputs": [],
   "source": [
    "word_field.build_vocab(dataset, min_freq=7)"
   ]
  },
  {
   "cell_type": "code",
   "execution_count": 15,
   "id": "5680a355",
   "metadata": {},
   "outputs": [
    {
     "name": "stdout",
     "output_type": "stream",
     "text": [
      "Tokenize type: <class 'method'>\n",
      "Sample tokenization: ['Пример', 'текста.', 'для', 'проверки', ',', 'лиор']\n"
     ]
    }
   ],
   "source": [
    "print(\"Tokenize type:\", type(word_field.tokenize))\n",
    "print(\"Sample tokenization:\", word_field.tokenize(\"Пример текста. для проверки,лиор\"))"
   ]
  },
  {
   "cell_type": "code",
   "execution_count": 16,
   "id": "052ae23f",
   "metadata": {},
   "outputs": [
    {
     "ename": "RuntimeError",
     "evalue": "Error(s) in loading state_dict for EncoderDecoder:\n\tsize mismatch for embedding.weight: copying a param with shape torch.Size([55798, 256]) from checkpoint, the shape in current model is torch.Size([61747, 256]).\n\tsize mismatch for encoder._emb.0.weight: copying a param with shape torch.Size([55798, 256]) from checkpoint, the shape in current model is torch.Size([61747, 256]).\n\tsize mismatch for decoder._emb.0.weight: copying a param with shape torch.Size([55798, 256]) from checkpoint, the shape in current model is torch.Size([61747, 256]).\n\tsize mismatch for decoder._out_layer.weight: copying a param with shape torch.Size([55798, 256]) from checkpoint, the shape in current model is torch.Size([61747, 256]).\n\tsize mismatch for decoder._out_layer.bias: copying a param with shape torch.Size([55798]) from checkpoint, the shape in current model is torch.Size([61747]).",
     "output_type": "error",
     "traceback": [
      "\u001b[1;31m---------------------------------------------------------------------------\u001b[0m",
      "\u001b[1;31mRuntimeError\u001b[0m                              Traceback (most recent call last)",
      "Cell \u001b[1;32mIn[16], line 2\u001b[0m\n\u001b[0;32m      1\u001b[0m model \u001b[38;5;241m=\u001b[39m EncoderDecoder(word_field)\n\u001b[1;32m----> 2\u001b[0m \u001b[43mmodel\u001b[49m\u001b[38;5;241;43m.\u001b[39;49m\u001b[43mload_state_dict\u001b[49m\u001b[43m(\u001b[49m\u001b[43mtorch\u001b[49m\u001b[38;5;241;43m.\u001b[39;49m\u001b[43mload\u001b[49m\u001b[43m(\u001b[49m\u001b[38;5;124;43m'\u001b[39;49m\u001b[38;5;124;43mmodel_without_pretrain_embs.pt\u001b[39;49m\u001b[38;5;124;43m'\u001b[39;49m\u001b[43m)\u001b[49m\u001b[43m)\u001b[49m\n\u001b[0;32m      3\u001b[0m input_text \u001b[38;5;241m=\u001b[39m \u001b[38;5;124m\"\u001b[39m\u001b[38;5;124mВ международном аэропорту Гонконга автомобиль технической службы столкнулся с самолетом, на борту которого находились 295 человек. В результате пострадал водитель машины. Видео инцидента в четверг, 8 сентября, публикует издание The Daily Mail. Инцидент произошел в момент, когда лайнер ехал к взлетной полосе, чтобы направиться в малайзийский штат Пинанг. Фургон врезался в двигатель воздушного судна. В результате водитель получил травмы плеча и головы. Чтобы вызволить его из покореженного автомобиля, понадобились усилия пяти человек.\u001b[39m\u001b[38;5;124m\"\u001b[39m\n",
      "File \u001b[1;32mc:\\Users\\Vladlen\\AppData\\Local\\Programs\\Python\\Python311\\Lib\\site-packages\\torch\\nn\\modules\\module.py:2593\u001b[0m, in \u001b[0;36mModule.load_state_dict\u001b[1;34m(self, state_dict, strict, assign)\u001b[0m\n\u001b[0;32m   2585\u001b[0m         error_msgs\u001b[38;5;241m.\u001b[39minsert(\n\u001b[0;32m   2586\u001b[0m             \u001b[38;5;241m0\u001b[39m,\n\u001b[0;32m   2587\u001b[0m             \u001b[38;5;124m\"\u001b[39m\u001b[38;5;124mMissing key(s) in state_dict: \u001b[39m\u001b[38;5;132;01m{}\u001b[39;00m\u001b[38;5;124m. \u001b[39m\u001b[38;5;124m\"\u001b[39m\u001b[38;5;241m.\u001b[39mformat(\n\u001b[0;32m   2588\u001b[0m                 \u001b[38;5;124m\"\u001b[39m\u001b[38;5;124m, \u001b[39m\u001b[38;5;124m\"\u001b[39m\u001b[38;5;241m.\u001b[39mjoin(\u001b[38;5;124mf\u001b[39m\u001b[38;5;124m'\u001b[39m\u001b[38;5;124m\"\u001b[39m\u001b[38;5;132;01m{\u001b[39;00mk\u001b[38;5;132;01m}\u001b[39;00m\u001b[38;5;124m\"\u001b[39m\u001b[38;5;124m'\u001b[39m \u001b[38;5;28;01mfor\u001b[39;00m k \u001b[38;5;129;01min\u001b[39;00m missing_keys)\n\u001b[0;32m   2589\u001b[0m             ),\n\u001b[0;32m   2590\u001b[0m         )\n\u001b[0;32m   2592\u001b[0m \u001b[38;5;28;01mif\u001b[39;00m \u001b[38;5;28mlen\u001b[39m(error_msgs) \u001b[38;5;241m>\u001b[39m \u001b[38;5;241m0\u001b[39m:\n\u001b[1;32m-> 2593\u001b[0m     \u001b[38;5;28;01mraise\u001b[39;00m \u001b[38;5;167;01mRuntimeError\u001b[39;00m(\n\u001b[0;32m   2594\u001b[0m         \u001b[38;5;124m\"\u001b[39m\u001b[38;5;124mError(s) in loading state_dict for \u001b[39m\u001b[38;5;132;01m{}\u001b[39;00m\u001b[38;5;124m:\u001b[39m\u001b[38;5;130;01m\\n\u001b[39;00m\u001b[38;5;130;01m\\t\u001b[39;00m\u001b[38;5;132;01m{}\u001b[39;00m\u001b[38;5;124m\"\u001b[39m\u001b[38;5;241m.\u001b[39mformat(\n\u001b[0;32m   2595\u001b[0m             \u001b[38;5;28mself\u001b[39m\u001b[38;5;241m.\u001b[39m\u001b[38;5;18m__class__\u001b[39m\u001b[38;5;241m.\u001b[39m\u001b[38;5;18m__name__\u001b[39m, \u001b[38;5;124m\"\u001b[39m\u001b[38;5;130;01m\\n\u001b[39;00m\u001b[38;5;130;01m\\t\u001b[39;00m\u001b[38;5;124m\"\u001b[39m\u001b[38;5;241m.\u001b[39mjoin(error_msgs)\n\u001b[0;32m   2596\u001b[0m         )\n\u001b[0;32m   2597\u001b[0m     )\n\u001b[0;32m   2598\u001b[0m \u001b[38;5;28;01mreturn\u001b[39;00m _IncompatibleKeys(missing_keys, unexpected_keys)\n",
      "\u001b[1;31mRuntimeError\u001b[0m: Error(s) in loading state_dict for EncoderDecoder:\n\tsize mismatch for embedding.weight: copying a param with shape torch.Size([55798, 256]) from checkpoint, the shape in current model is torch.Size([61747, 256]).\n\tsize mismatch for encoder._emb.0.weight: copying a param with shape torch.Size([55798, 256]) from checkpoint, the shape in current model is torch.Size([61747, 256]).\n\tsize mismatch for decoder._emb.0.weight: copying a param with shape torch.Size([55798, 256]) from checkpoint, the shape in current model is torch.Size([61747, 256]).\n\tsize mismatch for decoder._out_layer.weight: copying a param with shape torch.Size([55798, 256]) from checkpoint, the shape in current model is torch.Size([61747, 256]).\n\tsize mismatch for decoder._out_layer.bias: copying a param with shape torch.Size([55798]) from checkpoint, the shape in current model is torch.Size([61747])."
     ]
    }
   ],
   "source": [
    "model = EncoderDecoder(word_field)\n",
    "model.load_state_dict(torch.load('model_without_pretrain_embs.pt'))\n",
    "input_text = \"В международном аэропорту Гонконга автомобиль технической службы столкнулся с самолетом, на борту которого находились 295 человек. В результате пострадал водитель машины. Видео инцидента в четверг, 8 сентября, публикует издание The Daily Mail. Инцидент произошел в момент, когда лайнер ехал к взлетной полосе, чтобы направиться в малайзийский штат Пинанг. Фургон врезался в двигатель воздушного судна. В результате водитель получил травмы плеча и головы. Чтобы вызволить его из покореженного автомобиля, понадобились усилия пяти человек.\""
   ]
  }
 ],
 "metadata": {
  "kernelspec": {
   "display_name": "Python 3",
   "language": "python",
   "name": "python3"
  },
  "language_info": {
   "codemirror_mode": {
    "name": "ipython",
    "version": 3
   },
   "file_extension": ".py",
   "mimetype": "text/x-python",
   "name": "python",
   "nbconvert_exporter": "python",
   "pygments_lexer": "ipython3",
   "version": "3.11.2"
  }
 },
 "nbformat": 4,
 "nbformat_minor": 5
}
